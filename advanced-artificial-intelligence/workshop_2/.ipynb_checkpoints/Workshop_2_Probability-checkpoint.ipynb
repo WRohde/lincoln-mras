{
 "cells": [
  {
   "cell_type": "markdown",
   "metadata": {},
   "source": [
    "# AAI Workshop 2\n",
    "\n",
    "Below there are two examples and one excercise to be completed by the given deadline (read the text).\n",
    "\n",
    "---\n",
    "\n",
    "## EXAMPLE: Probability of disease given symptoms\n",
    "Let's assume we want to calculate the probability of having COVID-19 based on three possible symptoms: high fever, continuos cough, loss of taste/smell.\n",
    "We know there are 1% chances of being infected, and in such case the probabilities of developing the symptoms are as follows:\n",
    "- high fever: 10% with COVID, only 2% without\n",
    "- continuos cough: 20% with COVID, only 5% without\n",
    "- loss of taste/smell: 15% with COVID, only 0.1% without\n",
    "\n",
    "> __QUESTION:__ What is the probability of having COVID given the presence of all the three symptoms?\n",
    "\n",
    "### Solution\n",
    "\n",
    "We have four random variables, which can be either *true* or *false*:\n",
    "- COVID disease $D$\n",
    "- fever $F$\n",
    "- cough $C$\n",
    "- loss of taste/smell $L$\n",
    "\n",
    "For simpliciy, we will use lower-case letters to indicate single events (e.g. $d$ means $D = true$ and $¬d$ means $D = false$).\n",
    "The task then consists in computing the probability $P(d | f, c, l)$.\n",
    "\n",
    "We can write the following probability distributions, given by the problem:\n",
    "\n",
    "$\n",
    "P(d) = 0.01 \\\\\n",
    "P(¬d) = 0.99\n",
    "$\n",
    "\n",
    "or simply\n",
    "\n",
    "$\n",
    "{\\bf P}(D) = \\langle 0.01, 0.99 \\rangle\n",
    "$\n",
    "\n",
    "Similarly, for the conditional probabilities of the symptoms:\n",
    "\n",
    "$\n",
    "{\\bf P}(F | d) = \\langle 0.1, 0.9 \\rangle \\\\\n",
    "{\\bf P}(F | ¬d) = \\langle 0.02, 0.98 \\rangle \\\\\n",
    "~\\\\\n",
    "{\\bf P}(C | d) = \\langle 0.2, 0.8 \\rangle \\\\\n",
    "{\\bf P}(C | ¬d) = \\langle 0.05, 0.95 \\rangle \\\\\n",
    "~\\\\\n",
    "{\\bf P}(L | d) = \\langle 0.15, 0.85 \\rangle \\\\\n",
    "{\\bf P}(L | ¬d) = \\langle 0.001, 0.999 \\rangle.\n",
    "$\n",
    "<br><br>\n",
    "Let's put these in some Python arrays:"
   ]
  },
  {
   "cell_type": "code",
   "execution_count": 1,
   "metadata": {},
   "outputs": [
    {
     "name": "stdout",
     "output_type": "stream",
     "text": [
      "P(D) =  [0.01 0.99]\n",
      "\n",
      "P(F|D) =\n",
      " [[0.1  0.9 ]\n",
      " [0.02 0.98]]\n",
      "\n",
      "P(C|D) =\n",
      " [[0.2  0.8 ]\n",
      " [0.05 0.95]]\n",
      "\n",
      "P(L|D) =\n",
      " [[0.15  0.85 ]\n",
      " [0.001 0.999]]\n"
     ]
    }
   ],
   "source": [
    "import numpy as np\n",
    "\n",
    "p_disease = np.array([0.01, 0.99])\n",
    "print('P(D) = ', p_disease)\n",
    "\n",
    "p_fever_disease = np.array([[0.1, 0.9], [0.02, 0.98]])\n",
    "print('\\nP(F|D) =\\n', p_fever_disease)\n",
    "\n",
    "p_cough_disease = np.array([[0.2, 0.8], [0.05, 0.95]])\n",
    "print('\\nP(C|D) =\\n', p_cough_disease)\n",
    "\n",
    "p_loss_disease = np.array([[0.15, 0.85], [0.001, 0.999]])\n",
    "print('\\nP(L|D) =\\n', p_loss_disease)"
   ]
  },
  {
   "cell_type": "markdown",
   "metadata": {},
   "source": [
    "<br><br>\n",
    "Applying Bayes rule, we can write\n",
    "\n",
    "$$P(d | f, c, l) = \\dfrac{P(f, c, l | d) P(d)}{P(f, c, l)}.$$\n",
    "\n",
    "At the numerator, we can exploit the fact that the three symptoms are conditionally independent, given the diseas (i.e. if I know I have COVID, my chances of having a fever do not change by the fact of having also a cough or loss of taste/smell). Therefore\n",
    "\n",
    "$$P(f, c, l | d) P(d) = P(f|d) P(c|d) P(l|d) P(d).$$\n",
    "\n",
    "We can also apply the law of total probability to the denominator and write\n",
    "\n",
    "$$\n",
    "\\begin{align}\n",
    "P(f, c, l) &= \\sum_{x \\in D} P(f, c, l | x) P(x) \\nonumber\\\\\n",
    " &= P(f, c, l | d) P(d) + P(f, c, l | ¬d) P(¬d) \\nonumber\\\\\n",
    " &= P(f|d) P(c|d) P(l|d) P(d) + P(f|¬d) P(c|¬d) P(l|¬d) P(¬d).\\nonumber\n",
    "\\end{align}\n",
    "$$\n",
    "\n",
    "By substituing the above expressions for the numerator and denominator, we can write the answer to the original question:\n",
    "\n",
    "$$P(d | f, c, l) = \\dfrac{P(f | d) P(c | d) P(l | d) P(d)}{P(f|d) P(c|d) P(l|d) P(d) + P(f|¬d) P(c|¬d) P(l|¬d) P(¬d)}.$$\n",
    "\n",
    "<br><br>\n",
    "Let's implement this in Python to compute the actual probability value, starting from the numerator:"
   ]
  },
  {
   "cell_type": "code",
   "execution_count": 2,
   "metadata": {},
   "outputs": [
    {
     "name": "stdout",
     "output_type": "stream",
     "text": [
      "P(f,c,l|d) P(d) =\n",
      " 3.0000000000000004e-05\n"
     ]
    }
   ],
   "source": [
    "numerator = p_fever_disease[0,0] * p_cough_disease[0,0] * p_loss_disease[0,0] * p_disease[0]\n",
    "print('P(f,c,l|d) P(d) =\\n', numerator)"
   ]
  },
  {
   "cell_type": "markdown",
   "metadata": {},
   "source": [
    "At the denominator we have the sum of the symptoms probability with and without disease:"
   ]
  },
  {
   "cell_type": "code",
   "execution_count": 3,
   "metadata": {},
   "outputs": [
    {
     "name": "stdout",
     "output_type": "stream",
     "text": [
      "P(f,c,l|d)P(d) + P(f,c,l|¬d)P(¬d) =\n",
      " 3.0990000000000007e-05\n"
     ]
    }
   ],
   "source": [
    "denominator = p_fever_disease[0,0] * p_cough_disease[0,0] * p_loss_disease[0,0] * p_disease[0] +\\\n",
    "    p_fever_disease[1,0] * p_cough_disease[1,0] * p_loss_disease[1,0] * p_disease[1]\n",
    "print('P(f,c,l|d)P(d) + P(f,c,l|¬d)P(¬d) =\\n', denominator)"
   ]
  },
  {
   "cell_type": "markdown",
   "metadata": {},
   "source": [
    "Finally, the probability of the disease given all the symptoms are present is the following"
   ]
  },
  {
   "cell_type": "code",
   "execution_count": 4,
   "metadata": {},
   "outputs": [
    {
     "name": "stdout",
     "output_type": "stream",
     "text": [
      "P(d|f,c,l) =\n",
      " 0.9680542110358179\n"
     ]
    }
   ],
   "source": [
    "result = numerator / denominator\n",
    "print('P(d|f,c,l) =\\n', result)"
   ]
  },
  {
   "cell_type": "markdown",
   "metadata": {},
   "source": [
    "So the actual probability of having COVID, given the presence of all the three symptoms, is almost **97%**!\n",
    "\n",
    "**NOTE**: You can find other examples and a more elegant way to represent probability distributions in Python in the file [aima_ch13.zip](aima_ch13.zip), which is extracted and adapted from Russell and Norvig's book."
   ]
  },
  {
   "cell_type": "markdown",
   "metadata": {},
   "source": [
    "---\n",
    "\n",
    "## EXAMPLE: Probability from data\n",
    "\n",
    "Let's see in practice how you could extract some probabilities from data.\n",
    "\n",
    "Consider the following table, listing 10 students and their final grades (either A, B, or C) obtained in Year 1, Year 2 and Year 3:\n",
    "\n",
    "| Student | Grade Y1 | Grade Y2 | Grade Y3 |\n",
    "| --- | --- | --- | --- |\n",
    "| John | A | A | B |\n",
    "| Sarah | C | C | B |\n",
    "| Eric | A | B | B |\n",
    "| Paul | B | C | A |\n",
    "| Susanne | A | A | A |\n",
    "| Beth | B | A | B |\n",
    "| Jack | B | C | B |\n",
    "| Rachel | B | A | A |\n",
    "| Tom | B | C | C |\n",
    "| Jenny | B | A | B |\n",
    "\n",
    "Assuming three random variables, $G_1$, $G_2$, and $G_3$, to represent the grades at each year, how can we compute some useful probabilities from this table like, for example, $P(G_1 = A)$ or $P(G_1 = B, G_2 = C)$?\n",
    "\n",
    "Let's count the instances in the table:\n",
    "- in Year 1 there are three A grades out of ten, therefore $P(G_1 = A) = 3/10 = 0.3$\n",
    "- we can also see there are only three cases in which $G_1 = B$ and $G_2 = C$, therefore $P(G_1 = B, G_2 = C) = 0.3$.\n",
    "\n",
    "A little more complicated is to extract a conditional probablity. For example, what about $P(G_3 = A | G_2 = C)$?\n",
    "- there are four cases in which $G_2 = C$ (Sarah, Paul, Jack, and Tom)\n",
    "- among these, only Paul got an A in Year 3, therefore $P(G_3 = A | G_2 = C) = 1/4 = 0.25$.\n",
    "\n",
    "Let's see if this could also be calculated differently:\n",
    "- there is only one case (Paul) in which $G_2 = C$ and $G_3 = A$, therefore $P(G_2 = C, G_3 = A) = 1/10$\n",
    "- also, the probability $P(G_2 = C) = 4/10$\n",
    "- therefore, $P(G_3 = A | G_2 = C) = \\dfrac{P(G_2 = C, G_3 = A)}{P(G_2 = C)} = \\dfrac{1/10}{4/10} = 0.25$, as expected.\n",
    "\n",
    "\n",
    "**NOTE**: the above example is based on the assumption that the given data captures the real probability distribution of student grades ${\\bf P}(G_1, G_2, G_3)$. In general this is not true though, since even a small change in our data could cause significant changes in the probabilities (try to recompute the above in case Jack had a B in Year 2: what do you get?). Typically, the more data you have, the better it is, as long as the samples cover sufficiently well the underlying probability distribution.\n",
    "\n",
    "---\n",
    "\n",
    "## EXERCISE: Weather's probability\n",
    "\n",
    "You are given a (fake) [dataset](lincoln_weather.csv) of historical records for Lincoln's weather. The weather, which can be either rainy (= 1 in the dataset), misty (= 2), or sunny (= 3), is reported for each day of the week, for a whole year (52 weeks).\n",
    "\n",
    "After you formalised the problem (i.e. identify the random variables and necessary mathematical formulae), write a Python program that reads the dataset and computes the following:\n",
    "- probability of being sunny during the weekend (one or both days);\n",
    "- expected weather for each day of the week (*);\n",
    "- supposed you don't know which day of the week is today: although very unrealistic, how could you guess which day is today based only on the weather?\n",
    "\n",
    "(\\*) An expected value of, for example, 2.5 can be interpreted as \"a mix of misty and sunny weather\".\n",
    "\n",
    "Write a short document (PDF, max 1 page) or Jupyter Notebook file (preferred) describing your solution and send it to **nbellotto@lincoln.ac.uk** with subject *AAI Workshop 2 - NAME SURNAME*. Please submit your work by the <u>27th Oct 2020</u>. **It will not be graded, but only used by the lecturer to check the progress of the class**.\n",
    "\n"
   ]
  }
 ],
 "metadata": {
  "kernelspec": {
   "display_name": "Python 3",
   "language": "python",
   "name": "python3"
  },
  "language_info": {
   "codemirror_mode": {
    "name": "ipython",
    "version": 3
   },
   "file_extension": ".py",
   "mimetype": "text/x-python",
   "name": "python",
   "nbconvert_exporter": "python",
   "pygments_lexer": "ipython3",
   "version": "3.6.9"
  }
 },
 "nbformat": 4,
 "nbformat_minor": 4
}
